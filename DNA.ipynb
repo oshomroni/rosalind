{
  "nbformat": 4,
  "nbformat_minor": 0,
  "metadata": {
    "colab": {
      "provenance": [],
      "authorship_tag": "ABX9TyNcqw8+izH8s1nPrLrJsbPr",
      "include_colab_link": true
    },
    "kernelspec": {
      "name": "python3",
      "display_name": "Python 3"
    },
    "language_info": {
      "name": "python"
    }
  },
  "cells": [
    {
      "cell_type": "markdown",
      "metadata": {
        "id": "view-in-github",
        "colab_type": "text"
      },
      "source": [
        "<a href=\"https://colab.research.google.com/github/oshomroni/rosalind/blob/main/DNA.ipynb\" target=\"_parent\"><img src=\"https://colab.research.google.com/assets/colab-badge.svg\" alt=\"Open In Colab\"/></a>"
      ]
    },
    {
      "cell_type": "code",
      "execution_count": null,
      "metadata": {
        "id": "wrqooWpGDsPm"
      },
      "outputs": [],
      "source": []
    },
    {
      "cell_type": "markdown",
      "source": [
        "# Counting DNA Nucleotides\n",
        "<p class=\"topics\"><strong>Topics</strong>: <a href=\"https://rosalind.info/problems/topics/string-algorithms/\">String Algorithms</a></p>\n",
        "\n",
        "## **Problem**\n",
        "\n",
        "A <a class=\"term new\" href=\"https://rosalind.info/glossary/string/\" id=\"term-803\" rel=\"tooltip\" data-original-title=\"New term:\n",
        "An ordered collection of symbols formed into a word.\">string</a> is simply an ordered collection of symbols selected from\n",
        "some <a class=\"term new\" href=\"https://rosalind.info/glossary/alphabet/\" id=\"term-359\" rel=\"tooltip\" data-original-title=\"New term:\n",
        "A collection of symbols from which strings are constructed.\">alphabet</a> and formed into a word; the <a class=\"term new\" href=\"https://rosalind.info/glossary/string-length/\" id=\"term-529\" rel=\"tooltip\" data-original-title=\"New term:\n",
        "The number of symbols in a string.\">length</a> of a string is\n",
        "the number of symbols that it contains.\n",
        "\n",
        "An example of a length 21 <a class=\"term new\" href=\"https://rosalind.info/glossary/dna-string/\" id=\"term-349\" rel=\"tooltip\" data-original-title=\"New term:\n",
        "A string constructed from the alphabet {A, C, G, T}.\">DNA string</a> (whose alphabet contains the symbols 'A', 'C', 'G', and 'T') is \"ATGCTTCAGAAAGGTCTTACG.\"\n",
        "\n",
        "<span class=\"given-return\">Given:</span> A DNA string <mathjax><span class=\"MathJax_Preview\" style=\"color: inherit; display: none;\"></span><span class=\"MathJax\" id=\"MathJax-Element-1-Frame\" tabindex=\"0\" style=\"position: relative;\" data-mathml=\"<math xmlns=&quot;http://www.w3.org/1998/Math/MathML&quot;><mi>s</mi></math>\" role=\"presentation\"><nobr aria-hidden=\"true\"><span class=\"math\" id=\"MathJax-Span-1\" style=\"width: 0.58em; display: inline-block;\"><span style=\"display: inline-block; position: relative; width: 0.449em; height: 0px; font-size: 120%;\"><span style=\"position: absolute; clip: rect(1.673em, 1000.4em, 2.51em, -1000em); top: -2.308em; left: 0em;\"><span class=\"mrow\" id=\"MathJax-Span-2\"><span class=\"mi\" id=\"MathJax-Span-3\" style=\"font-family: MathJax_Math; font-style: italic;\">s</span></span><span style=\"display: inline-block; width: 0px; height: 2.308em;\"></span></span></span><span style=\"display: inline-block; overflow: hidden; vertical-align: -0.089em; border-left: 0px solid; width: 0px; height: 0.696em;\"></span></span></nobr><span class=\"MJX_Assistive_MathML\" role=\"presentation\"><math xmlns=\"http://www.w3.org/1998/Math/MathML\"><mi>s</mi></math></span></span><script type=\"math/tex\" id=\"MathJax-Element-1\">s</script></mathjax> of length at most 1000 nt.\n",
        "\n",
        "<span class=\"given-return\">Return:</span> Four integers (separated by spaces) counting the respective number of times that the\n",
        "symbols 'A', 'C', 'G', and 'T' occur in <mathjax><span class=\"MathJax_Preview\" style=\"color: inherit; display: none;\"></span><span class=\"MathJax\" id=\"MathJax-Element-2-Frame\" tabindex=\"0\" style=\"position: relative;\" data-mathml=\"<math xmlns=&quot;http://www.w3.org/1998/Math/MathML&quot;><mi>s</mi></math>\" role=\"presentation\"><nobr aria-hidden=\"true\"><span class=\"math\" id=\"MathJax-Span-4\" style=\"width: 0.58em; display: inline-block;\"><span style=\"display: inline-block; position: relative; width: 0.449em; height: 0px; font-size: 120%;\"><span style=\"position: absolute; clip: rect(1.673em, 1000.4em, 2.51em, -1000em); top: -2.308em; left: 0em;\"><span class=\"mrow\" id=\"MathJax-Span-5\"><span class=\"mi\" id=\"MathJax-Span-6\" style=\"font-family: MathJax_Math; font-style: italic;\">s</span></span><span style=\"display: inline-block; width: 0px; height: 2.308em;\"></span></span></span><span style=\"display: inline-block; overflow: hidden; vertical-align: -0.089em; border-left: 0px solid; width: 0px; height: 0.696em;\"></span></span></nobr><span class=\"MJX_Assistive_MathML\" role=\"presentation\"><math xmlns=\"http://www.w3.org/1998/Math/MathML\"><mi>s</mi></math></span></span><script type=\"math/tex\" id=\"MathJax-Element-2\">s</script></mathjax>.\n",
        "\n",
        "**Sample Dataset**\n",
        "\n",
        "`AGCTTTTCATTCTGACTGCAACGGGCAATATGTCTCTGTGTGGATTAAAAAAAGAGTGTCTGATAGCAGC`\n",
        "\n",
        "**Sample Output**\n",
        "\n",
        "`20 12 17 21`"
      ],
      "metadata": {
        "id": "wkhTnuL5Dv5r"
      }
    },
    {
      "cell_type": "code",
      "source": [
        "f=open(\"rosalind_dna.txt\",'r')\n",
        "text=f.readlines()[0].replace(\"\\n\",\"\")\n",
        "d={\"A\":0, \"C\":0,\"G\":0,\"T\":0}\n",
        "for t in text:\n",
        "  d[t]=d[t]+1\n",
        "\n",
        "[value for (key, value) in sorted(d.items())]"
      ],
      "metadata": {
        "colab": {
          "base_uri": "https://localhost:8080/",
          "height": 216
        },
        "id": "YztLuuMfJfql",
        "outputId": "1c025292-3fee-436b-dae1-a72e62fa68e0"
      },
      "execution_count": null,
      "outputs": [
        {
          "output_type": "error",
          "ename": "FileNotFoundError",
          "evalue": "[Errno 2] No such file or directory: 'rosalind_dna.txt'",
          "traceback": [
            "\u001b[0;31m---------------------------------------------------------------------------\u001b[0m",
            "\u001b[0;31mFileNotFoundError\u001b[0m                         Traceback (most recent call last)",
            "\u001b[0;32m<ipython-input-1-de0b74ecc597>\u001b[0m in \u001b[0;36m<cell line: 0>\u001b[0;34m()\u001b[0m\n\u001b[0;32m----> 1\u001b[0;31m \u001b[0mf\u001b[0m\u001b[0;34m=\u001b[0m\u001b[0mopen\u001b[0m\u001b[0;34m(\u001b[0m\u001b[0;34m\"rosalind_dna.txt\"\u001b[0m\u001b[0;34m,\u001b[0m\u001b[0;34m'r'\u001b[0m\u001b[0;34m)\u001b[0m\u001b[0;34m\u001b[0m\u001b[0;34m\u001b[0m\u001b[0m\n\u001b[0m\u001b[1;32m      2\u001b[0m \u001b[0mtext\u001b[0m\u001b[0;34m=\u001b[0m\u001b[0mf\u001b[0m\u001b[0;34m.\u001b[0m\u001b[0mreadlines\u001b[0m\u001b[0;34m(\u001b[0m\u001b[0;34m)\u001b[0m\u001b[0;34m[\u001b[0m\u001b[0;36m0\u001b[0m\u001b[0;34m]\u001b[0m\u001b[0;34m.\u001b[0m\u001b[0mreplace\u001b[0m\u001b[0;34m(\u001b[0m\u001b[0;34m\"\\n\"\u001b[0m\u001b[0;34m,\u001b[0m\u001b[0;34m\"\"\u001b[0m\u001b[0;34m)\u001b[0m\u001b[0;34m\u001b[0m\u001b[0;34m\u001b[0m\u001b[0m\n\u001b[1;32m      3\u001b[0m \u001b[0md\u001b[0m\u001b[0;34m=\u001b[0m\u001b[0;34m{\u001b[0m\u001b[0;34m\"A\"\u001b[0m\u001b[0;34m:\u001b[0m\u001b[0;36m0\u001b[0m\u001b[0;34m,\u001b[0m \u001b[0;34m\"C\"\u001b[0m\u001b[0;34m:\u001b[0m\u001b[0;36m0\u001b[0m\u001b[0;34m,\u001b[0m\u001b[0;34m\"G\"\u001b[0m\u001b[0;34m:\u001b[0m\u001b[0;36m0\u001b[0m\u001b[0;34m,\u001b[0m\u001b[0;34m\"T\"\u001b[0m\u001b[0;34m:\u001b[0m\u001b[0;36m0\u001b[0m\u001b[0;34m}\u001b[0m\u001b[0;34m\u001b[0m\u001b[0;34m\u001b[0m\u001b[0m\n\u001b[1;32m      4\u001b[0m \u001b[0;32mfor\u001b[0m \u001b[0mt\u001b[0m \u001b[0;32min\u001b[0m \u001b[0mtext\u001b[0m\u001b[0;34m:\u001b[0m\u001b[0;34m\u001b[0m\u001b[0;34m\u001b[0m\u001b[0m\n\u001b[1;32m      5\u001b[0m   \u001b[0md\u001b[0m\u001b[0;34m[\u001b[0m\u001b[0mt\u001b[0m\u001b[0;34m]\u001b[0m\u001b[0;34m=\u001b[0m\u001b[0md\u001b[0m\u001b[0;34m[\u001b[0m\u001b[0mt\u001b[0m\u001b[0;34m]\u001b[0m\u001b[0;34m+\u001b[0m\u001b[0;36m1\u001b[0m\u001b[0;34m\u001b[0m\u001b[0;34m\u001b[0m\u001b[0m\n",
            "\u001b[0;31mFileNotFoundError\u001b[0m: [Errno 2] No such file or directory: 'rosalind_dna.txt'"
          ]
        }
      ]
    }
  ]
}